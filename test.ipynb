{
 "cells": [
  {
   "cell_type": "code",
   "execution_count": 1,
   "id": "9a8b6b72-c440-4d1d-b4e7-4a0ff29d556c",
   "metadata": {},
   "outputs": [],
   "source": [
    "from threading import Thread\n",
    "import random, time"
   ]
  },
  {
   "cell_type": "code",
   "execution_count": 8,
   "id": "1013a574-a02b-43e5-ac73-3e9a4cc6c221",
   "metadata": {},
   "outputs": [],
   "source": [
    "from wsdbtools import ConnectionPool\n",
    "pool = ConnectionPool(postgres=dict(\n",
    "    host=\"localhost\"\n",
    "), max_connections=5)"
   ]
  },
  {
   "cell_type": "code",
   "execution_count": 3,
   "id": "dd871e2d-566d-4b40-a141-b8bbb3f2ebe2",
   "metadata": {},
   "outputs": [],
   "source": [
    "class MyThread(Thread):\n",
    "\n",
    "    def __init__(self, pool):\n",
    "        Thread.__init__(self, daemon=True)\n",
    "        self.Pool = pool\n",
    "        self.Name = str(id(self) % 1000)\n",
    "        \n",
    "    def run(self):\n",
    "        t0 = time.time()\n",
    "        print(f\"{self.Name} started:    \", time.time())\n",
    "        c = self.Pool.cursor()\n",
    "        print(f\"{self.Name} allocated:  \", time.time(), time.time() - t0)\n",
    "        time.sleep(random.random() * 3)\n",
    "        print(f\"{self.Name} deallocated:\", time.time(), time.time() - t0)\n"
   ]
  },
  {
   "cell_type": "code",
   "execution_count": 9,
   "id": "4adb6616-76c3-4789-b864-8cac959fedba",
   "metadata": {},
   "outputs": [
    {
     "name": "stdout",
     "output_type": "stream",
     "text": [
      "672 started:     1687271379.46064\n",
      "448 started:     1687271379.4616792\n",
      "840 started:     1687271379.4621189\n",
      "464 started:     1687271379.462719\n",
      "992 started:     1687271379.463243\n",
      "616 started:     1687271379.463468\n",
      "600 started:     1687271379.463546\n",
      "152 started:     1687271379.463616\n",
      "816 started:     1687271379.4636679\n",
      "456 started:     1687271379.463726\n",
      "96 started:     1687271379.463781\n",
      "352 started:     1687271379.463864\n",
      "592 started:     1687271379.463955\n",
      "792 started:     1687271379.4640288\n",
      "312 started:     1687271379.4640908\n",
      "368 started:     1687271379.464205\n",
      "528 started:     1687271379.464253\n",
      "8 started:     1687271379.464368\n",
      "488 started:     1687271379.4645069\n",
      "968 started:     1687271379.46495\n",
      "448 started:     1687271379.465088\n",
      "928 started:     1687271379.465472\n",
      "408 started:     1687271379.4656692\n",
      "888 started:     1687271379.465767\n",
      "368 started:     1687271379.465893\n",
      "280 started:     1687271379.4659572\n",
      "760 started:     1687271379.4660108\n",
      "240 started:     1687271379.466075\n",
      "720 started:     1687271379.466161\n",
      "200 started:     1687271379.4662201\n",
      "680 started:     1687271379.46628\n",
      "160 started:     1687271379.466336\n",
      "640 started:     1687271379.466385\n",
      "392 started:     1687271379.4664588\n",
      "872 started:     1687271379.46651\n",
      "352 started:     1687271379.466568\n",
      "832 started:     1687271379.4666939\n",
      "312 started:     1687271379.4667509\n",
      "792 started:     1687271379.466827\n",
      "272 started:     1687271379.466881\n",
      "752 started:     1687271379.466926\n",
      "232 started:     1687271379.466986\n",
      "968 started:     1687271379.467115\n",
      "448 started:     1687271379.467245\n",
      "928 started:     1687271379.467324\n",
      "408 started:     1687271379.467407\n",
      "888 started:     1687271379.467554\n",
      "368 started:     1687271379.467618\n",
      "848 started:     1687271379.467731\n",
      "328 started:     1687271379.467934\n",
      "672 allocated:   1687271379.5706189 0.10998082160949707\n",
      "448 allocated:   1687271379.679223 0.2175459861755371\n",
      "840 allocated:   1687271379.7731829 0.3110661506652832\n",
      "464 allocated:   1687271379.867328 0.40461230278015137\n",
      "992 allocated:   1687271379.978656 0.5154139995574951\n",
      "672 deallocated: 1687271380.280662 0.8200240135192871\n",
      "968 allocated:   1687271380.309847 0.8448982238769531\n",
      "968 deallocated: 1687271381.338784 1.8738410472869873\n",
      "200 allocated:   1687271381.379414 1.913193941116333\n",
      "464 deallocated: 1687271381.6312802 2.1685640811920166\n",
      "680 allocated:   1687271381.665266 2.198986053466797\n",
      "992 deallocated: 1687271381.722188 2.2589468955993652\n",
      "456 allocated:   1687271381.758192 2.294466972351074\n",
      "680 deallocated: 1687271382.0498261 2.5835471153259277\n",
      "312 allocated:   1687271382.101957 2.635207176208496\n",
      "448 deallocated: 1687271382.184614 2.722943067550659\n",
      "640 allocated:   1687271382.219219 2.7528340816497803\n",
      "840 deallocated: 1687271382.3321972 2.8700809478759766\n",
      "280 allocated:   1687271382.366109 2.900174856185913\n",
      "640 deallocated: 1687271383.706326 4.2399420738220215\n",
      "720 allocated:   1687271383.7506402 4.284480094909668\n",
      "312 deallocated: 1687271383.8090398 4.342292070388794\n",
      "752 allocated:   1687271383.861094 4.394167900085449\n",
      "456 deallocated: 1687271383.905835 4.442111968994141\n",
      "200 deallocated: 1687271383.930756 4.464537858963013\n",
      "160 allocated:   1687271383.956864 4.490528106689453\n",
      "848 allocated:   1687271384.010184 4.542469263076782\n",
      "848 deallocated: 1687271384.051529 4.5838000774383545\n",
      "888 allocated:   1687271384.09871 4.631156921386719\n",
      "280 deallocated: 1687271384.646053 5.180096626281738\n",
      "488 allocated:   1687271384.6936672 5.229161024093628\n",
      "752 deallocated: 1687271385.6889951 6.222074747085571\n",
      "96 allocated:   1687271385.741787 6.278007745742798\n",
      "720 deallocated: 1687271386.0354612 6.569319009780884\n",
      "600 allocated:   1687271386.0875862 6.6240410804748535\n",
      "160 deallocated: 1687271386.22562 6.759285926818848\n",
      "448 allocated:   1687271386.27721 6.8099658489227295\n",
      "888 deallocated: 1687271386.449141 6.9815897941589355\n",
      "592 allocated:   1687271386.495556 7.031603097915649\n",
      "488 deallocated: 1687271386.888891 7.4243857860565186\n",
      "240 allocated:   1687271386.935786 7.469711065292358\n",
      "592 deallocated: 1687271387.656383 8.192430019378662\n",
      "8 allocated:   1687271387.70676 8.242393732070923\n",
      "448 deallocated: 1687271387.937305 8.470062017440796\n",
      "352 allocated:   1687271387.982537 8.518674850463867\n",
      "240 deallocated: 1687271388.480531 9.014456987380981\n",
      "448 allocated:   1687271388.529289 9.064202070236206\n",
      "600 deallocated: 1687271388.6324108 9.168867826461792\n",
      "272 allocated:   1687271388.686559 9.21967887878418\n",
      "96 deallocated: 1687271388.7103639 9.246585845947266\n",
      "408 allocated:   1687271388.753543 9.286135911941528\n",
      "408 deallocated: 1687271389.239451 9.772050142288208\n",
      "928 allocated:   1687271389.28982 9.822497129440308\n",
      "8 deallocated: 1687271389.34752 9.88315486907959\n",
      "368 allocated:   1687271389.3993862 9.931769132614136\n",
      "352 deallocated: 1687271389.4154549 9.951592922210693\n",
      "792 allocated:   1687271389.462216 9.995389938354492\n",
      "368 deallocated: 1687271390.3074791 10.83986783027649\n",
      "528 allocated:   1687271390.359318 10.895065069198608\n",
      "928 deallocated: 1687271390.408996 10.941674947738647\n",
      "328 allocated:   1687271390.456248 10.988315105438232\n",
      "448 deallocated: 1687271390.9264672 11.461382150650024\n",
      "152 allocated:   1687271390.9776042 11.5139901638031\n",
      "272 deallocated: 1687271391.35538 11.888500928878784\n",
      "408 allocated:   1687271391.4085262 11.94285798072815\n",
      "408 deallocated: 1687271391.45565 11.989982843399048\n",
      "232 allocated:   1687271391.51103 12.044044971466064\n",
      "328 deallocated: 1687271391.880738 12.412806034088135\n",
      "792 deallocated: 1687271391.907706 12.44088101387024\n",
      "888 allocated:   1687271391.931015 12.465250015258789\n",
      "968 allocated:   1687271391.9852202 12.51810622215271\n",
      "152 deallocated: 1687271392.6645288 13.200916051864624\n",
      "792 allocated:   1687271392.718233 13.254204273223877\n",
      "528 deallocated: 1687271392.9499562 13.485704183578491\n",
      "352 allocated:   1687271392.994983 13.528416156768799\n",
      "352 deallocated: 1687271393.155468 13.688902139663696\n",
      "832 allocated:   1687271393.200984 13.734290838241577\n",
      "792 deallocated: 1687271393.328706 13.864679336547852\n",
      "928 allocated:   1687271393.379804 13.914332866668701\n",
      "928 deallocated: 1687271393.941997 14.476526975631714\n",
      "872 allocated:   1687271393.988113 14.52160382270813\n",
      "888 deallocated: 1687271394.4154618 14.949702024459839\n",
      "232 deallocated: 1687271394.424622 14.957643032073975\n",
      "368 allocated:   1687271394.466625 15.00073504447937\n",
      "368 allocated:   1687271394.51629 15.052084922790527\n",
      "872 deallocated: 1687271394.526166 15.05965805053711\n",
      "392 allocated:   1687271394.5775738 15.11111569404602\n",
      "968 deallocated: 1687271394.669945 15.202832221984863\n",
      "816 allocated:   1687271394.7137978 15.250131130218506\n",
      "832 deallocated: 1687271395.096338 15.62964677810669\n",
      "616 allocated:   1687271395.1508 15.68733286857605\n",
      "368 deallocated: 1687271395.585069 16.11917805671692\n",
      "312 allocated:   1687271395.63996 16.175869941711426\n",
      "616 deallocated: 1687271396.3245592 16.861093759536743\n",
      "760 allocated:   1687271396.3632362 16.897226333618164\n",
      "392 deallocated: 1687271396.513885 17.047427892684937\n",
      "816 deallocated: 1687271396.906955 17.443289279937744\n",
      "760 deallocated: 1687271397.284598 17.81859302520752\n",
      "368 deallocated: 1687271397.384705 17.920501947402954\n",
      "312 deallocated: 1687271398.222193 18.75811004638672\n",
      "1\n"
     ]
    }
   ],
   "source": [
    "threads = [MyThread(pool) for _ in range(50)]\n",
    "[t.start() for t in threads]\n",
    "[t.join() for t in threads]\n",
    "print(pool.open_connections_count)"
   ]
  },
  {
   "cell_type": "code",
   "execution_count": 5,
   "id": "1e3927a9-c9bd-4c02-8f41-54acb6a7efe8",
   "metadata": {},
   "outputs": [
    {
     "data": {
      "text/plain": [
       "[<wsdbtools.ConnectionPool._IdleConnection at 0x7fde00f71ee0>]"
      ]
     },
     "execution_count": 5,
     "metadata": {},
     "output_type": "execute_result"
    }
   ],
   "source": [
    "pool.IdleConnections"
   ]
  },
  {
   "cell_type": "code",
   "execution_count": 5,
   "id": "35ae5232-62b3-4fa3-9665-7e6c31c27cb4",
   "metadata": {},
   "outputs": [
    {
     "data": {
      "text/plain": [
       "2"
      ]
     },
     "execution_count": 5,
     "metadata": {},
     "output_type": "execute_result"
    }
   ],
   "source": [
    "c2.close()\n",
    "c2=pool.connect()\n",
    "pool.open_connections_count"
   ]
  },
  {
   "cell_type": "code",
   "execution_count": null,
   "id": "50cd75e3-cc2c-40a2-b9d7-88fccc5efea5",
   "metadata": {},
   "outputs": [],
   "source": []
  },
  {
   "cell_type": "code",
   "execution_count": 7,
   "id": "683ad0c3-8d2e-4af5-b2ea-3f9ed734fefe",
   "metadata": {},
   "outputs": [],
   "source": [
    "del c2"
   ]
  },
  {
   "cell_type": "code",
   "execution_count": 8,
   "id": "34782a74-ef67-495b-bd59-696ac9661b29",
   "metadata": {},
   "outputs": [],
   "source": [
    "c5=pool.connect()"
   ]
  },
  {
   "cell_type": "code",
   "execution_count": null,
   "id": "d8de21d3-edf2-4afb-a21b-fdf8003de2eb",
   "metadata": {},
   "outputs": [],
   "source": []
  }
 ],
 "metadata": {
  "kernelspec": {
   "display_name": "Python 3 (ipykernel)",
   "language": "python",
   "name": "python3"
  },
  "language_info": {
   "codemirror_mode": {
    "name": "ipython",
    "version": 3
   },
   "file_extension": ".py",
   "mimetype": "text/x-python",
   "name": "python",
   "nbconvert_exporter": "python",
   "pygments_lexer": "ipython3",
   "version": "3.9.12"
  }
 },
 "nbformat": 4,
 "nbformat_minor": 5
}
