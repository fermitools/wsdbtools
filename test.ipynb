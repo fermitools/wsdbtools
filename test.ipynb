{
 "cells": [
  {
   "cell_type": "code",
   "execution_count": 1,
   "id": "cd85abc3-38a1-447b-b3a8-2c77264eb791",
   "metadata": {},
   "outputs": [
    {
     "data": {
      "text/plain": [
       "{'port': 5432,\n",
       " 'host': 'localhost',\n",
       " 'user': 'ivm',\n",
       " 'password': 'ivm123',\n",
       " 'dbname': 'ivm',\n",
       " 'schema': 'qq'}"
      ]
     },
     "execution_count": 1,
     "metadata": {},
     "output_type": "execute_result"
    }
   ],
   "source": [
    "from wsdbtools import ConnectionPool\n",
    "import yaml\n",
    "\n",
    "connspec = yaml.load(\"\"\"\n",
    "    port: 5432\n",
    "    host: localhost\n",
    "    user: ivm\n",
    "    password: ivm123\n",
    "    dbname: ivm\n",
    "    schema: qq\n",
    "\"\"\", Loader=yaml.SafeLoader)\n",
    "connspec"
   ]
  },
  {
   "cell_type": "code",
   "execution_count": 2,
   "id": "6e49abcd-ec15-428b-8567-7d1041a34413",
   "metadata": {},
   "outputs": [],
   "source": [
    "pool = ConnectionPool(postgres=connspec)"
   ]
  },
  {
   "cell_type": "code",
   "execution_count": 3,
   "id": "157abdc4-c307-4842-92d4-3a2ad4aee1b5",
   "metadata": {},
   "outputs": [
    {
     "name": "stdout",
     "output_type": "stream",
     "text": [
      "140445851560640\n",
      "[]\n"
     ]
    }
   ],
   "source": [
    "conn = pool.connect()\n",
    "print(id(conn.Connection))\n",
    "c=conn.cursor()\n",
    "c.execute(\"select * from qqqqq\")\n",
    "print(c.fetchall())"
   ]
  },
  {
   "cell_type": "code",
   "execution_count": 6,
   "id": "21c9237e-6940-4fd2-989e-3370b9ba9951",
   "metadata": {},
   "outputs": [
    {
     "name": "stdout",
     "output_type": "stream",
     "text": [
      "new connection: 140445851561648\n",
      "_WrappedConnection: __del__()...\n",
      "returnConnection() ...\n",
      "returnConnection: idle connections: 0\n",
      "_WrappedConnection: exiting __del__()\n",
      "[]\n"
     ]
    }
   ],
   "source": [
    "del conn\n",
    "conn = None\n",
    "conn = pool.connect()\n",
    "print(\"new connection:\", id(conn.Connection))\n",
    "c=conn.cursor()\n",
    "#c.execute(\"set schema 'qq'\")\n",
    "c.execute(\"select * from qqqqq\")\n",
    "print(c.fetchall())"
   ]
  },
  {
   "cell_type": "code",
   "execution_count": 27,
   "id": "f47b1756-3da6-4d5a-9fb9-3bc48ab21866",
   "metadata": {},
   "outputs": [
    {
     "name": "stdout",
     "output_type": "stream",
     "text": [
      "qq\n"
     ]
    }
   ],
   "source": [
    "c.execute(\"rollback\")\n",
    "c.execute(\"select current_schema()\")\n",
    "print(c.fetchone()[0])"
   ]
  },
  {
   "cell_type": "code",
   "execution_count": 7,
   "id": "32dc3bd4-e1e7-414c-b15e-80ff67559e65",
   "metadata": {},
   "outputs": [
    {
     "ename": "UndefinedTable",
     "evalue": "relation \"qqqqq\" does not exist\nLINE 1: select * from qqqqq\n                      ^\n",
     "output_type": "error",
     "traceback": [
      "\u001b[0;31m---------------------------------------------------------------------------\u001b[0m",
      "\u001b[0;31mUndefinedTable\u001b[0m                            Traceback (most recent call last)",
      "Cell \u001b[0;32mIn [7], line 2\u001b[0m\n\u001b[1;32m      1\u001b[0m c\u001b[38;5;241m=\u001b[39mconn\u001b[38;5;241m.\u001b[39mcursor()\n\u001b[0;32m----> 2\u001b[0m \u001b[43mc\u001b[49m\u001b[38;5;241;43m.\u001b[39;49m\u001b[43mexecute\u001b[49m\u001b[43m(\u001b[49m\u001b[38;5;124;43m\"\u001b[39;49m\u001b[38;5;124;43mselect * from qqqqq\u001b[39;49m\u001b[38;5;124;43m\"\u001b[39;49m\u001b[43m)\u001b[49m\n",
      "\u001b[0;31mUndefinedTable\u001b[0m: relation \"qqqqq\" does not exist\nLINE 1: select * from qqqqq\n                      ^\n"
     ]
    }
   ],
   "source": [
    "c=conn.cursor()\n",
    "c.execute(\"select * from qqqqq\")"
   ]
  },
  {
   "cell_type": "code",
   "execution_count": 4,
   "id": "545dac6f-1b89-463f-a682-5c9a14c13f8f",
   "metadata": {},
   "outputs": [],
   "source": [
    "import psycopg2\n",
    "conn = psycopg2.connect(\"host=localhost\")"
   ]
  },
  {
   "cell_type": "code",
   "execution_count": 8,
   "id": "ab5dfd9d-7a85-4ff4-ba76-c9856b674441",
   "metadata": {},
   "outputs": [
    {
     "name": "stdout",
     "output_type": "stream",
     "text": [
      "test\n",
      "test\n"
     ]
    }
   ],
   "source": [
    "c = conn.cursor()\n",
    "#c.execute(\"rollback\")\n",
    "c.execute(\"set session schema 'test'\")\n",
    "c.execute(\"select current_schema()\")\n",
    "print(c.fetchone()[0])\n",
    "c.execute(\"rollback\")\n",
    "c.execute(\"select current_schema()\")\n",
    "print(c.fetchone()[0])"
   ]
  },
  {
   "cell_type": "code",
   "execution_count": 4,
   "id": "49719da5-4d45-41c3-b715-0228a098eafd",
   "metadata": {},
   "outputs": [
    {
     "name": "stdout",
     "output_type": "stream",
     "text": [
      "public\n"
     ]
    }
   ],
   "source": [
    "c.execute(\"rollback\")\n",
    "c.execute(\"select current_schema()\")\n",
    "print(c.fetchone()[0])"
   ]
  },
  {
   "cell_type": "code",
   "execution_count": 10,
   "id": "7d258213-7c58-45a1-942d-f8a773bb198e",
   "metadata": {},
   "outputs": [
    {
     "name": "stdout",
     "output_type": "stream",
     "text": [
      "test\n",
      "test\n"
     ]
    }
   ],
   "source": [
    "c1 = conn.cursor()\n",
    "#c.execute(\"rollback\")\n",
    "#c1.execute(\"set session schema 'test'\")\n",
    "c1.execute(\"select current_schema()\")\n",
    "print(c1.fetchone()[0])\n",
    "c1.execute(\"rollback\")\n",
    "c1.execute(\"select current_schema()\")\n",
    "print(c1.fetchone()[0])"
   ]
  },
  {
   "cell_type": "code",
   "execution_count": null,
   "id": "1013a574-a02b-43e5-ac73-3e9a4cc6c221",
   "metadata": {},
   "outputs": [],
   "source": []
  }
 ],
 "metadata": {
  "kernelspec": {
   "display_name": "Python 3 (ipykernel)",
   "language": "python",
   "name": "python3"
  },
  "language_info": {
   "codemirror_mode": {
    "name": "ipython",
    "version": 3
   },
   "file_extension": ".py",
   "mimetype": "text/x-python",
   "name": "python",
   "nbconvert_exporter": "python",
   "pygments_lexer": "ipython3",
   "version": "3.9.12"
  }
 },
 "nbformat": 4,
 "nbformat_minor": 5
}
